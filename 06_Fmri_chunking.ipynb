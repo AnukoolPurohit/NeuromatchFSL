{
 "cells": [
  {
   "cell_type": "code",
   "execution_count": 1,
   "id": "b792767b",
   "metadata": {},
   "outputs": [],
   "source": [
    "%reload_ext autoreload\n",
    "%autoreload 2"
   ]
  },
  {
   "cell_type": "code",
   "execution_count": 7,
   "id": "c40e25ef",
   "metadata": {},
   "outputs": [],
   "source": [
    "from fsl_experiment_suite import Path\n",
    "from fsl_experiment_suite.data.utils import load_evs, EXPERIMENTS\n",
    "from fsl_experiment_suite.utils import get_fmri_chunk_indices\n",
    "from fsl_experiment_suite.data.core import get_events"
   ]
  },
  {
   "cell_type": "code",
   "execution_count": 23,
   "id": "f329b5c9",
   "metadata": {},
   "outputs": [],
   "source": [
    "import nilearn\n",
    "import nibabel as nib\n",
    "from nilearn import image"
   ]
  },
  {
   "cell_type": "code",
   "execution_count": 9,
   "id": "338bf144",
   "metadata": {},
   "outputs": [],
   "source": [
    "DATA_DIR = Path(\"/home/anukoolpurohit/Documents/AnukoolPurohit/Datasets/fslcourse/fslcourse_data\")"
   ]
  },
  {
   "cell_type": "code",
   "execution_count": 10,
   "id": "c69270c7",
   "metadata": {},
   "outputs": [],
   "source": [
    "experiment = \"parametric\"\n",
    "parametric_stimulus_data = load_evs(experiment)\n",
    "TR = EXPERIMENTS[experiment]['TR']"
   ]
  },
  {
   "cell_type": "code",
   "execution_count": 20,
   "id": "d0cc129f",
   "metadata": {},
   "outputs": [],
   "source": [
    "fmri_img = nib.load(DATA_DIR/\"parametric\"/\"fmri_data.nii.gz\")\n",
    "fmri_img.uncache()"
   ]
  },
  {
   "cell_type": "code",
   "execution_count": 11,
   "id": "5447c2d8",
   "metadata": {},
   "outputs": [
    {
     "data": {
      "text/plain": [
       "{'WPM_0050': array([0., 0., 0., ..., 0., 0., 0.]),\n",
       " 'WPM_0350': array([0., 0., 0., ..., 0., 0., 0.]),\n",
       " 'WPM_0650': array([1., 1., 1., ..., 0., 0., 0.]),\n",
       " 'WPM_0950': array([0., 0., 0., ..., 0., 0., 0.]),\n",
       " 'WPM_1250': array([0., 0., 0., ..., 0., 0., 0.])}"
      ]
     },
     "execution_count": 11,
     "metadata": {},
     "output_type": "execute_result"
    }
   ],
   "source": [
    "parametric_stimulus_data"
   ]
  },
  {
   "cell_type": "code",
   "execution_count": 14,
   "id": "4ae421f6",
   "metadata": {},
   "outputs": [],
   "source": [
    "events = get_events(parametric_stimulus_data)"
   ]
  },
  {
   "cell_type": "code",
   "execution_count": 22,
   "id": "cb0b4f22",
   "metadata": {},
   "outputs": [
    {
     "name": "stdout",
     "output_type": "stream",
     "text": [
      "0.933\n"
     ]
    }
   ],
   "source": [
    "print(TR)"
   ]
  },
  {
   "cell_type": "code",
   "execution_count": 26,
   "id": "64bfdb07",
   "metadata": {},
   "outputs": [
    {
     "name": "stdout",
     "output_type": "stream",
     "text": [
      "WPM_0050\n",
      "(91, 109, 91, 21)\n",
      "(91, 109, 91, 21)\n",
      "(91, 109, 91, 21)\n",
      "(91, 109, 91, 21)\n",
      "(91, 109, 91, 21)\n",
      "(91, 109, 91, 21)\n",
      "(91, 109, 91, 21)\n",
      "(91, 109, 91, 21)\n",
      "WPM_0350\n",
      "(91, 109, 91, 23)\n",
      "(91, 109, 91, 23)\n",
      "(91, 109, 91, 23)\n",
      "(91, 109, 91, 23)\n",
      "(91, 109, 91, 23)\n",
      "(91, 109, 91, 23)\n",
      "(91, 109, 91, 23)\n",
      "(91, 109, 91, 23)\n",
      "WPM_0650\n",
      "(91, 109, 91, 23)\n",
      "(91, 109, 91, 23)\n",
      "(91, 109, 91, 23)\n",
      "(91, 109, 91, 23)\n",
      "(91, 109, 91, 23)\n",
      "(91, 109, 91, 23)\n",
      "(91, 109, 91, 23)\n",
      "(91, 109, 91, 23)\n",
      "WPM_0950\n",
      "(91, 109, 91, 23)\n",
      "(91, 109, 91, 23)\n",
      "(91, 109, 91, 23)\n",
      "(91, 109, 91, 23)\n",
      "(91, 109, 91, 23)\n",
      "(91, 109, 91, 23)\n",
      "(91, 109, 91, 23)\n",
      "(91, 109, 91, 23)\n",
      "WPM_1250\n",
      "(91, 109, 91, 24)\n",
      "(91, 109, 91, 24)\n",
      "(91, 109, 91, 24)\n",
      "(91, 109, 91, 24)\n",
      "(91, 109, 91, 24)\n",
      "(91, 109, 91, 24)\n",
      "(91, 109, 91, 24)\n",
      "(91, 109, 91, 24)\n"
     ]
    }
   ],
   "source": [
    "for key in parametric_stimulus_data.keys():\n",
    "    # word per minute\n",
    "    print(key)\n",
    "    # The array of stimulus at that WPM \n",
    "#     print(parametric_stimulus_data[key])\n",
    "    # What are the time point when the stimulus is this word per min\n",
    "#     print(get_fmri_chunk_indices(parametric_stimulus_data[key]))\n",
    "    indices = get_fmri_chunk_indices(parametric_stimulus_data[key])\n",
    "    for index in indices:\n",
    "        fmri_slice = nilearn.image.index_img(fmri_img, slice(*index))\n",
    "        print(fmri_slice.shape)\n",
    "    "
   ]
  },
  {
   "cell_type": "code",
   "execution_count": null,
   "id": "36fbe954",
   "metadata": {},
   "outputs": [],
   "source": []
  }
 ],
 "metadata": {
  "kernelspec": {
   "display_name": "Python 3 (ipykernel)",
   "language": "python",
   "name": "python3"
  },
  "language_info": {
   "codemirror_mode": {
    "name": "ipython",
    "version": 3
   },
   "file_extension": ".py",
   "mimetype": "text/x-python",
   "name": "python",
   "nbconvert_exporter": "python",
   "pygments_lexer": "ipython3",
   "version": "3.9.6"
  },
  "toc": {
   "base_numbering": 1,
   "nav_menu": {},
   "number_sections": true,
   "sideBar": true,
   "skip_h1_title": false,
   "title_cell": "Table of Contents",
   "title_sidebar": "Contents",
   "toc_cell": false,
   "toc_position": {},
   "toc_section_display": true,
   "toc_window_display": false
  }
 },
 "nbformat": 4,
 "nbformat_minor": 5
}
